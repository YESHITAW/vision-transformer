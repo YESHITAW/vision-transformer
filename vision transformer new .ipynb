{
 "cells": [
  {
   "cell_type": "code",
   "execution_count": 1,
   "id": "3811041d",
   "metadata": {},
   "outputs": [],
   "source": [
    "import os\n",
    "os.environ['TF_CPP_MIN_LOG_LEVEL'] = '3'\n",
    "\n",
    "import numpy as np\n",
    "import tensorflow as tf\n",
    "from tensorflow import keras\n",
    "from tensorflow.keras import layers\n",
    "from tensorflow.keras.utils import image_dataset_from_directory\n",
    "import tensorflow_addons as tfa\n",
    "import tensorflow_hub as hub\n",
    "import cv2"
   ]
  },
  {
   "cell_type": "code",
   "execution_count": 2,
   "id": "06c25130",
   "metadata": {},
   "outputs": [
    {
     "name": "stdout",
     "output_type": "stream",
     "text": [
      "True\n",
      "Found 27558 files belonging to 2 classes.\n"
     ]
    }
   ],
   "source": [
    "num_classes = 2\n",
    "input_shape = (100, 100, 3)\n",
    "\n",
    "pos_dir = \"./test_images/\"\n",
    "\n",
    "print(os.path.isdir(pos_dir))\n",
    "image = image_dataset_from_directory(pos_dir,image_size=(100,100),label_mode='int',batch_size=32)\n",
    "\n",
    "learning_rate = 0.001\n",
    "weight_decay = 0.0001\n",
    "batch_size = 32\n",
    "num_epochs = 100\n",
    "image_size = 72  # We'll resize input images to this size\n",
    "patch_size = 6  # Size of the patches to be extract from the input images\n",
    "num_patches = (image_size // patch_size) ** 2\n",
    "projection_dim = 16\n",
    "num_heads = 4\n",
    "transformer_units = [\n",
    "    projection_dim * 2,\n",
    "    projection_dim,\n",
    "]  # Size of bthe transformer layers\n",
    "transformer_layers = 4\n",
    "mlp_head_units = [1024, 512]  # Size of the dense layers of the final classifier\n"
   ]
  },
  {
   "cell_type": "code",
   "execution_count": 3,
   "id": "929f22ee",
   "metadata": {},
   "outputs": [
    {
     "name": "stderr",
     "output_type": "stream",
     "text": [
      "862it [00:06, 131.52it/s]\n"
     ]
    }
   ],
   "source": [
    "from tqdm import tqdm\n",
    "x_train = []\n",
    "y_train = []\n",
    "\n",
    "for image,y in tqdm(image.as_numpy_iterator()):\n",
    "    #print(\"image shape \",image.shape)\n",
    "    x_train.append(image)\n",
    "    y_train.append(y)\n"
   ]
  },
  {
   "cell_type": "code",
   "execution_count": 4,
   "id": "9bfc9af9",
   "metadata": {},
   "outputs": [],
   "source": [
    "X = np.concatenate([*x_train])\n",
    "y = np.concatenate([*y_train])"
   ]
  },
  {
   "cell_type": "code",
   "execution_count": 5,
   "id": "ca242f25",
   "metadata": {},
   "outputs": [
    {
     "data": {
      "text/plain": [
       "(100, 100, 3)"
      ]
     },
     "execution_count": 5,
     "metadata": {},
     "output_type": "execute_result"
    }
   ],
   "source": [
    "X[0].shape"
   ]
  },
  {
   "cell_type": "code",
   "execution_count": 6,
   "id": "dbe5104f",
   "metadata": {},
   "outputs": [],
   "source": [
    "data_augmentation = keras.Sequential(\n",
    "    [\n",
    "        layers.Normalization(),\n",
    "        layers.Resizing(image_size, image_size),\n",
    "        layers.RandomFlip(\"horizontal\"),\n",
    "        layers.RandomRotation(factor=0.02),\n",
    "        layers.RandomZoom(\n",
    "            height_factor=0.2, width_factor=0.2\n",
    "        ),\n",
    "    ],\n",
    "    name=\"data_augmentation\",\n",
    ")\n",
    "# Compute the mean and the variance of the training data for normalization.\n",
    "data_augmentation.layers[0].adapt(X)"
   ]
  },
  {
   "cell_type": "code",
   "execution_count": 7,
   "id": "bd4597f1",
   "metadata": {},
   "outputs": [],
   "source": [
    "def mlp(x, hidden_units, dropout_rate):\n",
    "    for units in hidden_units:\n",
    "        x = layers.Dense(units, activation=tf.nn.gelu)(x)\n",
    "        x = layers.Dropout(dropout_rate)(x)\n",
    "    return x"
   ]
  },
  {
   "cell_type": "code",
   "execution_count": 8,
   "id": "bdf6a00d",
   "metadata": {},
   "outputs": [],
   "source": [
    "class Patches(layers.Layer):\n",
    "    def __init__(self, patch_size, **kwargs):\n",
    "        super(Patches, self).__init__()\n",
    "        self.patch_size = patch_size\n",
    "\n",
    "    def call(self, images):\n",
    "        batch_size = tf.shape(images)[0]\n",
    "        patches = tf.image.extract_patches(\n",
    "            images=images,\n",
    "            sizes=[1, self.patch_size, self.patch_size, 1],\n",
    "            strides=[1, self.patch_size, self.patch_size, 1],\n",
    "            rates=[1, 1, 1, 1],\n",
    "            padding=\"VALID\",\n",
    "        )\n",
    "        patch_dims = patches.shape[-1]\n",
    "        self.patches = tf.reshape(patches, [batch_size, -1, patch_dims])\n",
    "        \n",
    "        return self.patches\n",
    "    \n",
    "    def get_config(self):\n",
    "        config = super().get_config().copy()\n",
    "        config.update({\n",
    "            'patch_size': self.patch_size\n",
    "        \n",
    "        })\n",
    "        return config \n",
    "\n",
    "\n",
    "# split malaria cell image in to patches "
   ]
  },
  {
   "cell_type": "code",
   "execution_count": 9,
   "id": "a911c4b1",
   "metadata": {},
   "outputs": [
    {
     "name": "stderr",
     "output_type": "stream",
     "text": [
      "Clipping input data to the valid range for imshow with RGB data ([0..1] for floats or [0..255] for integers).\n"
     ]
    },
    {
     "name": "stdout",
     "output_type": "stream",
     "text": [
      "image out (100, 100, 3)\n",
      "Image size: 72 X 72\n",
      "Patch size: 6 X 6\n",
      "Patches per image: 144\n",
      "Elements per patch: 108\n"
     ]
    },
    {
     "data": {
      "image/png": "[encoded data removed]",
      "text/plain": [
       "<Figure size 288x288 with 1 Axes>"
      ]
     },
     "metadata": {
      "needs_background": "light"
     },
     "output_type": "display_data"
    },
    {
     "data": {
      "image/png": "[encoded data removed]",
      "text/plain": [
       "<Figure size 288x288 with 144 Axes>"
      ]
     },
     "metadata": {
      "needs_background": "light"
     },
     "output_type": "display_data"
    }
   ],
   "source": [
    "%matplotlib inline\n",
    "\n",
    "x_train = X[0]\n",
    "\n",
    "import matplotlib.pyplot as plt\n",
    "\n",
    "plt.figure(figsize=(4, 4))\n",
    "image_out = x_train\n",
    "\n",
    "plt.imshow(image_out)\n",
    "plt.axis(\"off\")\n",
    "print(\"image out\" ,image_out.shape)\n",
    "\n",
    "resized_image = tf.image.resize(\n",
    "    tf.convert_to_tensor([image_out]), size=(image_size, image_size)\n",
    ")\n",
    "patches = Patches(patch_size)(resized_image)\n",
    "print(f\"Image size: {image_size} X {image_size}\")\n",
    "print(f\"Patch size: {patch_size} X {patch_size}\")\n",
    "print(f\"Patches per image: {patches.shape[1]}\")\n",
    "print(f\"Elements per patch: {patches.shape[-1]}\")\n",
    "\n",
    "n = int(np.sqrt(patches.shape[1]))\n",
    "plt.figure(figsize=(4, 4))\n",
    "for i, patch in enumerate(patches[0]):\n",
    "    ax = plt.subplot(n, n, i + 1)\n",
    "    patch_img = tf.reshape(patch, (patch_size, patch_size, 3))\n",
    "    plt.imshow(patch_img.numpy().astype(\"uint8\"))\n",
    "    plt.axis(\"off\")\n",
    "\n"
   ]
  },
  {
   "cell_type": "code",
   "execution_count": 10,
   "id": "2fee4e03",
   "metadata": {},
   "outputs": [],
   "source": [
    "\n",
    "class PatchEncoder(layers.Layer):\n",
    "    def __init__(self, num_patches, projection_dim, **kwargs):\n",
    "        super(PatchEncoder, self).__init__()\n",
    "        self.num_patches = num_patches\n",
    "        self.projection = layers.Dense(units=projection_dim)\n",
    "        self.position_embedding = layers.Embedding(\n",
    "            input_dim=num_patches, output_dim=projection_dim\n",
    "        )\n",
    "        self.projection_dim = projection_dim\n",
    "\n",
    "    def call(self, patch):\n",
    "        positions = tf.range(start=0, limit=self.num_patches, delta=1)\n",
    "        self.encoded = self.projection(patch) + self.position_embedding(positions)\n",
    "        return self.encoded\n",
    "    \n",
    "    def get_config(self):\n",
    "        config = super().get_config().copy()\n",
    "        config.update({\n",
    "            'num_patches': self.num_patches,\n",
    "            'projection_dim': self.projection_dim,\n",
    "            'projection':self.projection\n",
    "            \n",
    "        })\n",
    "        return config\n",
    "\n",
    "\n"
   ]
  },
  {
   "cell_type": "code",
   "execution_count": 11,
   "id": "72d2897c",
   "metadata": {},
   "outputs": [],
   "source": [
    "\n",
    "def create_vit_classifier():\n",
    "    inputs = layers.Input(shape=input_shape)\n",
    "    # Augment data.\n",
    "    augmented = data_augmentation(inputs)\n",
    "    # Create patches.\n",
    "    patches = Patches(patch_size)(augmented)\n",
    "    #patches = Patches(patch_size)(inputs)\n",
    "    # Encode patches.\n",
    "    encoded_patches = PatchEncoder(num_patches, projection_dim)(patches)\n",
    "\n",
    "    # Create multiple layers of the Transformer block.\n",
    "    for _ in range(transformer_layers):\n",
    "        # Layer normalization 1.\n",
    "        x1 = layers.LayerNormalization(epsilon=1e-6)(encoded_patches)\n",
    "        # Create a multi-head attention layer.\n",
    "        attention_output = layers.MultiHeadAttention(\n",
    "            num_heads=num_heads, key_dim=projection_dim, dropout=0.1\n",
    "        )(x1, x1)\n",
    "        # Skip connection 1.\n",
    "        x2 = layers.Add()([attention_output, encoded_patches])\n",
    "        # Layer normalization 2.\n",
    "        x3 = layers.LayerNormalization(epsilon=1e-6)(x2)\n",
    "        # MLP.\n",
    "        x3 = mlp(x3, hidden_units=transformer_units, dropout_rate=0.1)\n",
    "        # Skip connection 2.\n",
    "        encoded_patches = layers.Add()([x3, x2])\n",
    "\n",
    "    # Create a [batch_size, projection_dim] tensor.\n",
    "    representation = layers.LayerNormalization(epsilon=1e-6)(encoded_patches)\n",
    "    representation = layers.Flatten()(representation)\n",
    "    representation = layers.Dropout(0.5)(representation)\n",
    "    # Add MLP.\n",
    "    features = mlp(representation, hidden_units=mlp_head_units, dropout_rate=0.5)\n",
    "    # Classify outputs.\n",
    "    logits = layers.Dense(num_classes,activation='softmax')(features)\n",
    "    #logits = layers.Dense(num_classes)(features)\n",
    "    # Create the Keras model.\n",
    "        \n",
    "    model = keras.Model(inputs=inputs, outputs=logits)\n",
    "    \n",
    "    config = model.get_config()\n",
    "    \n",
    "    #custom_objects = {\"CustomLayer\": CustomLayer, \"custom_activation\": custom_activation}\n",
    "    custom_objects = {\"Patches\": Patches,\"PatchEncoder\":PatchEncoder}\n",
    "\n",
    "    with keras.utils.custom_object_scope(custom_objects):\n",
    "        new_model = keras.Model.from_config(config)\n",
    "        \n",
    "        \n",
    "    return new_model\n"
   ]
  },
  {
   "cell_type": "code",
   "execution_count": 12,
   "id": "92933330",
   "metadata": {},
   "outputs": [
    {
     "name": "stderr",
     "output_type": "stream",
     "text": [
      "C:\\Users\\ITSC\\anaconda3\\envs\\vision_transformer\\lib\\site-packages\\keras\\utils\\generic_utils.py:494: CustomMaskWarning: Custom mask layers require a config and must override get_config. When loading, the custom mask layer must be passed to the custom_objects argument.\n",
      "  warnings.warn('Custom mask layers require a config and must override '\n"
     ]
    },
    {
     "name": "stdout",
     "output_type": "stream",
     "text": [
      "Epoch 1/100\n",
      "862/862 [==============================] - 249s 284ms/step - loss: 0.7382\n",
      "Epoch 2/100\n",
      "862/862 [==============================] - 244s 283ms/step - loss: 0.6593\n",
      "Epoch 3/100\n",
      "862/862 [==============================] - 244s 283ms/step - loss: 0.6357\n",
      "Epoch 4/100\n",
      "862/862 [==============================] - 244s 283ms/step - loss: 0.6180\n",
      "Epoch 5/100\n",
      "862/862 [==============================] - 244s 283ms/step - loss: 0.2542\n",
      "Epoch 6/100\n",
      "862/862 [==============================] - 244s 283ms/step - loss: 0.1782\n",
      "Epoch 7/100\n",
      "862/862 [==============================] - 244s 283ms/step - loss: 0.1680\n",
      "Epoch 8/100\n",
      "862/862 [==============================] - 244s 283ms/step - loss: 0.1686\n",
      "Epoch 9/100\n",
      "862/862 [==============================] - 244s 283ms/step - loss: 0.1659\n",
      "Epoch 10/100\n",
      "862/862 [==============================] - 244s 283ms/step - loss: 0.1658\n",
      "Epoch 11/100\n",
      "862/862 [==============================] - 244s 283ms/step - loss: 0.1631\n",
      "Epoch 12/100\n",
      "862/862 [==============================] - 244s 283ms/step - loss: 0.1617\n",
      "Epoch 13/100\n",
      "862/862 [==============================] - 244s 283ms/step - loss: 0.1600\n",
      "Epoch 14/100\n",
      "862/862 [==============================] - 244s 283ms/step - loss: 0.1603\n",
      "Epoch 15/100\n",
      "862/862 [==============================] - 244s 283ms/step - loss: 0.1603\n",
      "Epoch 16/100\n",
      "862/862 [==============================] - 244s 283ms/step - loss: 0.1583\n",
      "Epoch 17/100\n",
      "862/862 [==============================] - 244s 284ms/step - loss: 0.1608\n",
      "Epoch 18/100\n",
      "862/862 [==============================] - 243s 282ms/step - loss: 0.1581\n",
      "Epoch 19/100\n",
      "862/862 [==============================] - 243s 282ms/step - loss: 0.1582\n",
      "Epoch 20/100\n",
      "862/862 [==============================] - 243s 282ms/step - loss: 0.1598\n",
      "Epoch 21/100\n",
      "862/862 [==============================] - 244s 283ms/step - loss: 0.1575\n",
      "Epoch 22/100\n",
      "862/862 [==============================] - 244s 283ms/step - loss: 0.1544\n",
      "Epoch 23/100\n",
      "862/862 [==============================] - 244s 283ms/step - loss: 0.1581\n",
      "Epoch 24/100\n",
      "862/862 [==============================] - 244s 283ms/step - loss: 0.1557\n",
      "Epoch 25/100\n",
      "862/862 [==============================] - 244s 283ms/step - loss: 0.1578\n",
      "Epoch 26/100\n",
      "862/862 [==============================] - 244s 284ms/step - loss: 0.1586\n",
      "Epoch 27/100\n",
      "862/862 [==============================] - 244s 283ms/step - loss: 0.1600\n",
      "Epoch 28/100\n",
      "862/862 [==============================] - 244s 283ms/step - loss: 0.1582\n",
      "Epoch 29/100\n",
      "862/862 [==============================] - 244s 283ms/step - loss: 0.1604\n",
      "Epoch 30/100\n",
      "862/862 [==============================] - 244s 283ms/step - loss: 0.1547\n",
      "Epoch 31/100\n",
      "862/862 [==============================] - 244s 283ms/step - loss: 0.1533\n",
      "Epoch 32/100\n",
      "862/862 [==============================] - 244s 283ms/step - loss: 0.1575\n",
      "Epoch 33/100\n",
      "862/862 [==============================] - 244s 283ms/step - loss: 0.1575\n",
      "Epoch 34/100\n",
      "862/862 [==============================] - 244s 283ms/step - loss: 0.1563\n",
      "Epoch 35/100\n",
      "862/862 [==============================] - 244s 283ms/step - loss: 0.1553\n",
      "Epoch 36/100\n",
      "862/862 [==============================] - 244s 283ms/step - loss: 0.1559\n",
      "Epoch 37/100\n",
      "862/862 [==============================] - 244s 283ms/step - loss: 0.1575\n",
      "Epoch 38/100\n",
      "862/862 [==============================] - 244s 283ms/step - loss: 0.1555\n",
      "Epoch 39/100\n",
      "862/862 [==============================] - 244s 283ms/step - loss: 0.1568\n",
      "Epoch 40/100\n",
      "862/862 [==============================] - 244s 283ms/step - loss: 0.1565\n",
      "Epoch 41/100\n",
      "862/862 [==============================] - 243s 282ms/step - loss: 0.1577\n",
      "Epoch 42/100\n",
      "862/862 [==============================] - 244s 283ms/step - loss: 0.1564\n",
      "Epoch 43/100\n",
      "862/862 [==============================] - 244s 283ms/step - loss: 0.1568\n",
      "Epoch 44/100\n",
      "862/862 [==============================] - 243s 282ms/step - loss: 0.1568\n",
      "Epoch 45/100\n",
      "862/862 [==============================] - 243s 282ms/step - loss: 0.1551\n",
      "Epoch 46/100\n",
      "862/862 [==============================] - 244s 283ms/step - loss: 0.1584\n",
      "Epoch 47/100\n",
      "862/862 [==============================] - 244s 283ms/step - loss: 0.1557\n",
      "Epoch 48/100\n",
      "862/862 [==============================] - 244s 283ms/step - loss: 0.1567\n",
      "Epoch 49/100\n",
      "862/862 [==============================] - 244s 283ms/step - loss: 0.1570\n",
      "Epoch 50/100\n",
      "862/862 [==============================] - 244s 283ms/step - loss: 0.1550\n",
      "Epoch 51/100\n",
      "862/862 [==============================] - 243s 282ms/step - loss: 0.1539\n",
      "Epoch 52/100\n",
      "862/862 [==============================] - 244s 283ms/step - loss: 0.1551\n",
      "Epoch 53/100\n",
      "862/862 [==============================] - 243s 282ms/step - loss: 0.1588\n",
      "Epoch 54/100\n",
      "862/862 [==============================] - 244s 283ms/step - loss: 0.1557\n",
      "Epoch 55/100\n",
      "862/862 [==============================] - 243s 282ms/step - loss: 0.1553\n",
      "Epoch 56/100\n",
      "862/862 [==============================] - 243s 282ms/step - loss: 0.1556\n",
      "Epoch 57/100\n",
      "862/862 [==============================] - 244s 283ms/step - loss: 0.1550\n",
      "Epoch 58/100\n",
      "862/862 [==============================] - 244s 283ms/step - loss: 0.1580\n",
      "Epoch 59/100\n",
      "862/862 [==============================] - 244s 283ms/step - loss: 0.1537\n",
      "Epoch 60/100\n",
      "862/862 [==============================] - 243s 282ms/step - loss: 0.1551\n",
      "Epoch 61/100\n",
      "862/862 [==============================] - 244s 283ms/step - loss: 0.1555\n",
      "Epoch 62/100\n",
      "862/862 [==============================] - 244s 283ms/step - loss: 0.1573\n",
      "Epoch 63/100\n",
      "862/862 [==============================] - 244s 283ms/step - loss: 0.1537\n",
      "Epoch 64/100\n",
      "862/862 [==============================] - 244s 283ms/step - loss: 0.1574\n",
      "Epoch 65/100\n",
      "862/862 [==============================] - 244s 283ms/step - loss: 0.1559\n",
      "Epoch 66/100\n",
      "862/862 [==============================] - 243s 282ms/step - loss: 0.1571\n",
      "Epoch 67/100\n",
      "862/862 [==============================] - 244s 283ms/step - loss: 0.1567\n",
      "Epoch 68/100\n",
      "862/862 [==============================] - 244s 283ms/step - loss: 0.1587\n",
      "Epoch 69/100\n",
      "862/862 [==============================] - 244s 283ms/step - loss: 0.1568\n",
      "Epoch 70/100\n",
      "862/862 [==============================] - 244s 283ms/step - loss: 0.1574\n",
      "Epoch 71/100\n",
      "862/862 [==============================] - 244s 283ms/step - loss: 0.1554\n",
      "Epoch 72/100\n",
      "862/862 [==============================] - 244s 283ms/step - loss: 0.1571\n",
      "Epoch 73/100\n",
      "862/862 [==============================] - 244s 283ms/step - loss: 0.1565\n",
      "Epoch 74/100\n",
      "862/862 [==============================] - 244s 283ms/step - loss: 0.1573\n",
      "Epoch 75/100\n",
      "862/862 [==============================] - 244s 283ms/step - loss: 0.1588\n",
      "Epoch 76/100\n",
      "862/862 [==============================] - 244s 283ms/step - loss: 0.1562\n",
      "Epoch 77/100\n",
      "862/862 [==============================] - 244s 283ms/step - loss: 0.1562\n",
      "Epoch 78/100\n",
      "862/862 [==============================] - 244s 283ms/step - loss: 0.1546\n",
      "Epoch 79/100\n",
      "862/862 [==============================] - 244s 283ms/step - loss: 0.1549\n",
      "Epoch 80/100\n",
      "862/862 [==============================] - 244s 283ms/step - loss: 0.1561\n",
      "Epoch 81/100\n",
      "862/862 [==============================] - 243s 282ms/step - loss: 0.1565\n",
      "Epoch 82/100\n",
      "862/862 [==============================] - 243s 282ms/step - loss: 0.1562\n",
      "Epoch 83/100\n",
      "862/862 [==============================] - 243s 282ms/step - loss: 0.1568\n",
      "Epoch 84/100\n",
      "862/862 [==============================] - 243s 282ms/step - loss: 0.1568\n",
      "Epoch 85/100\n",
      "862/862 [==============================] - 243s 282ms/step - loss: 0.1538\n",
      "Epoch 86/100\n",
      "862/862 [==============================] - 244s 283ms/step - loss: 0.1562\n",
      "Epoch 87/100\n",
      "862/862 [==============================] - 244s 283ms/step - loss: 0.1564\n",
      "Epoch 88/100\n",
      "862/862 [==============================] - 244s 283ms/step - loss: 0.1609\n",
      "Epoch 89/100\n",
      "862/862 [==============================] - 244s 283ms/step - loss: 0.1540\n",
      "Epoch 90/100\n",
      "862/862 [==============================] - 243s 282ms/step - loss: 0.1532\n",
      "Epoch 91/100\n",
      "862/862 [==============================] - 245s 284ms/step - loss: 0.1554\n",
      "Epoch 92/100\n",
      "862/862 [==============================] - 243s 282ms/step - loss: 0.1582\n",
      "Epoch 93/100\n",
      "862/862 [==============================] - 243s 282ms/step - loss: 0.1568\n",
      "Epoch 94/100\n",
      "862/862 [==============================] - 243s 282ms/step - loss: 0.1565\n",
      "Epoch 95/100\n",
      "862/862 [==============================] - 244s 283ms/step - loss: 0.1559\n",
      "Epoch 96/100\n",
      "862/862 [==============================] - 244s 283ms/step - loss: 0.1553\n",
      "Epoch 97/100\n",
      "862/862 [==============================] - 243s 282ms/step - loss: 0.1558\n",
      "Epoch 98/100\n",
      "862/862 [==============================] - 243s 282ms/step - loss: 0.1562\n",
      "Epoch 99/100\n",
      "862/862 [==============================] - 243s 282ms/step - loss: 0.1562\n",
      "Epoch 100/100\n",
      "862/862 [==============================] - 243s 282ms/step - loss: 0.1559\n",
      "saved\n"
     ]
    }
   ],
   "source": [
    "\n",
    "metrics=[\n",
    "            keras.metrics.SparseCategoricalAccuracy(name=\"accuracy\"),\n",
    "            keras.metrics.SparseTopKCategoricalAccuracy(5, name=\"top-5-accuracy\"),\n",
    "        ]\n",
    "\n",
    "\n",
    "def run_experiment(model):\n",
    "    optimizer = tfa.optimizers.AdamW(\n",
    "        learning_rate=learning_rate, weight_decay=weight_decay\n",
    "    )\n",
    "\n",
    "    model.compile(\n",
    "        optimizer=optimizer,\n",
    "        #loss= keras.losses.BinaryCrossentropy(),\n",
    "        #loss= keras.losses.CategoricalCrossentropy()\n",
    "        loss= keras.losses.SparseCategoricalCrossentropy()\n",
    "        \n",
    "    )\n",
    "    \n",
    "\n",
    "    history = model.fit(\n",
    "        X,\n",
    "        y,\n",
    "        batch_size=batch_size,\n",
    "        epochs=num_epochs,\n",
    "        #callbacks=[checkpoint_callback],\n",
    "    )\n",
    "\n",
    "\n",
    "    model.save(\"vision_transformer_model.h5\")\n",
    "    print(\"saved\")\n",
    "    return history\n",
    "\n",
    "\n",
    "vit_classifier = create_vit_classifier()\n",
    "history = run_experiment(vit_classifier)\n",
    "\n"
   ]
  },
  {
   "cell_type": "code",
   "execution_count": 13,
   "id": "a32b7c69",
   "metadata": {},
   "outputs": [],
   "source": [
    "import cv2\n",
    "import numpy as np\n"
   ]
  },
  {
   "cell_type": "code",
   "execution_count": 14,
   "id": "a8a2c229",
   "metadata": {},
   "outputs": [
    {
     "name": "stdout",
     "output_type": "stream",
     "text": [
      "(1, 100, 100, 3)\n"
     ]
    }
   ],
   "source": [
    "img = cv2.imread(\"image_1.png\")\n",
    "\n",
    "img = cv2.resize(img,(100,100))\n",
    "res = img.reshape(1,100,100,3)//255\n",
    "\n",
    "print(res.shape)"
   ]
  },
  {
   "cell_type": "code",
   "execution_count": 15,
   "id": "b4e4ea5a",
   "metadata": {},
   "outputs": [
    {
     "name": "stdout",
     "output_type": "stream",
     "text": [
      "tf.Tensor([[0.9055281  0.09447187]], shape=(1, 2), dtype=float32)\n"
     ]
    }
   ],
   "source": [
    "\n",
    "custom_objects = {\"Patches\": Patches,\"PatchEncoder\":PatchEncoder}\n",
    "loaded_model = keras.models.load_model(\"vision_transformer_model.h5\",custom_objects = custom_objects)\n",
    "\n",
    "output = loaded_model(res).numpy()\n",
    "output = np.argmax(output)\n",
    "print(output)\n"
   ]
  },
  {
   "cell_type": "code",
   "execution_count": null,
   "id": "9317591b",
   "metadata": {},
   "outputs": [],
   "source": [
    "if output == 1:\n",
    "    print(\" Infected\")\n",
    "elif output == 0:\n",
    "    print(\" un Infected \")\n",
    "else:\n",
    "      pass"
   ]
  },
  {
   "cell_type": "code",
   "execution_count": null,
   "id": "726b3e14",
   "metadata": {},
   "outputs": [],
   "source": []
  },
  {
   "cell_type": "code",
   "execution_count": null,
   "id": "ef744fd4",
   "metadata": {},
   "outputs": [],
   "source": []
  },
  {
   "cell_type": "code",
   "execution_count": null,
   "id": "d9e27fc1",
   "metadata": {},
   "outputs": [],
   "source": []
  }
 ],
 "metadata": {
  "kernelspec": {
   "display_name": "Python 3 (ipykernel)",
   "language": "python",
   "name": "python3"
  },
  "language_info": {
   "codemirror_mode": {
    "name": "ipython",
    "version": 3
   },
   "file_extension": ".py",
   "mimetype": "text/x-python",
   "name": "python",
   "nbconvert_exporter": "python",
   "pygments_lexer": "ipython3",
   "version": "3.9.2"
  }
 },
 "nbformat": 4,
 "nbformat_minor": 5
}
